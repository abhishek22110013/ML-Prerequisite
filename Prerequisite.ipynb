{
  "nbformat": 4,
  "nbformat_minor": 0,
  "metadata": {
    "colab": {
      "provenance": [],
      "toc_visible": true
    },
    "kernelspec": {
      "name": "python3",
      "display_name": "Python 3"
    },
    "language_info": {
      "name": "python"
    }
  },
  "cells": [
    {
      "cell_type": "markdown",
      "source": [
        "# Question-1"
      ],
      "metadata": {
        "id": "1TcXUivGXQdH"
      }
    },
    {
      "cell_type": "markdown",
      "source": [
        "How many multiplications and additions do you need to perform a matrix multiplication between a (n, k) and (k, m) matrix? Explain.\n",
        "\n",
        "**Solution:** The result of a matrix multiplictaion between a (n,k) and (k,m) is a matrix of dimension (n,m). Therefore, the total number of elements in the resultant matrix is n*m. Also, to obtain each element of the resultant matrix, we need to perform k multiplications and (k-1) additions. Hence, total number of multplications and additions required to perform is (n * m * k) and (k-1) * n * m respectively."
      ],
      "metadata": {
        "id": "bp5zuyk8_hnr"
      }
    },
    {
      "cell_type": "markdown",
      "source": [
        "# Question-2"
      ],
      "metadata": {
        "id": "cifaScL8XXtX"
      }
    },
    {
      "cell_type": "markdown",
      "source": [
        "Write Python code to multiply the above two matrices. Solve using list of lists and then use numpy. Compare the timing of both solutions. Which one is faster? Why?"
      ],
      "metadata": {
        "id": "-mXsP5-zDIok"
      }
    },
    {
      "cell_type": "code",
      "source": [
        "import numpy as np\n",
        "import time"
      ],
      "metadata": {
        "id": "y0UxGPBWIOmq"
      },
      "execution_count": 1,
      "outputs": []
    },
    {
      "cell_type": "code",
      "execution_count": 2,
      "metadata": {
        "id": "dp0Fwbh-_Z5x"
      },
      "outputs": [],
      "source": [
        "def matrixMultiply(arr1, arr2):\n",
        "  n = len(arr1)\n",
        "  k = len(arr2)\n",
        "  m = len(arr2[0])\n",
        "  result = []\n",
        "  for i in range(n):\n",
        "    row = []\n",
        "    for j in range(m):\n",
        "      ele = 0\n",
        "      for x in range(k):\n",
        "        ele = ele + arr1[i][x] * arr2[x][j]\n",
        "      row.append(ele)\n",
        "    result.append(row)\n",
        "  return result\n"
      ]
    },
    {
      "cell_type": "code",
      "source": [
        "a = np.random.randint(10, size = (15,20))\n",
        "b = np.random.randint(10, size = (20,30))\n",
        "\n",
        "start_time = time.time()\n",
        "matrixMultiply(a,b)\n",
        "end_time = time.time()\n",
        "print(\"Running time using list of lists = \", end_time-start_time)"
      ],
      "metadata": {
        "colab": {
          "base_uri": "https://localhost:8080/"
        },
        "id": "GauvXVpAF8sd",
        "outputId": "b8254cd7-f8aa-461c-d891-916c5e956f5b"
      },
      "execution_count": 5,
      "outputs": [
        {
          "output_type": "stream",
          "name": "stdout",
          "text": [
            "Running time using list of lists =  0.00986623764038086\n"
          ]
        }
      ]
    },
    {
      "cell_type": "code",
      "source": [
        "start_time = time.time()\n",
        "np.matmul(a,b)\n",
        "end_time = time.time()\n",
        "print(\"Running time using numpy = \", end_time-start_time)"
      ],
      "metadata": {
        "colab": {
          "base_uri": "https://localhost:8080/"
        },
        "id": "r4E1Men6HujV",
        "outputId": "b64338da-94b7-49d7-ab90-05e55b40f6b1"
      },
      "execution_count": 6,
      "outputs": [
        {
          "output_type": "stream",
          "name": "stdout",
          "text": [
            "Running time using numpy =  0.00018334388732910156\n"
          ]
        }
      ]
    },
    {
      "cell_type": "markdown",
      "source": [
        "We can see that time taken in case of numpy is very less as compared to that of the code using for loops. It is because numpy uses vectorisation for calculations related to matricies and hence parallel computing makes the calculations faster. On the other hand, in case of for loops, it is sequential calculations and hence take more time."
      ],
      "metadata": {
        "id": "A02Aj73_eqEX"
      }
    },
    {
      "cell_type": "markdown",
      "source": [
        "Using this method, the complexity to find the median of the array will be O(n²).\n",
        "\n",
        "A better method to find the median of the array will be:\n",
        "Firstly sort the array and then find the element at middle most index. If there are two middle most indices then take the average of the elements at those positions."
      ],
      "metadata": {
        "id": "EIqlyxOZgRMc"
      }
    },
    {
      "cell_type": "markdown",
      "source": [
        "# Question-3"
      ],
      "metadata": {
        "id": "EPghnsf6XIGK"
      }
    },
    {
      "cell_type": "markdown",
      "source": [
        "Finding the highest element in a list requires one pass of the array. Finding the second highest element requires 2 passes of the the array. Using this method, what is the time complexity of finding the median of the array? Can you suggest a better method? Can you implement both these methods in Python and compare against numpy.median routine in terms of time?"
      ],
      "metadata": {
        "id": "V72ACd5PL6Eo"
      }
    },
    {
      "cell_type": "code",
      "source": [
        "arr1 = np.random.randint(100,size = (1000))\n",
        "arr2 = np.copy(arr1)\n",
        "arr3 = np.copy(arr1)\n",
        "\n",
        "#print(arr1)\n",
        "length = len(arr1)\n",
        "\n",
        "start_time = time.time()\n",
        "\n",
        "\n",
        "for j in range(length//2):\n",
        "  curr_max = 0\n",
        "  ind = -1\n",
        "  for i in range(length):\n",
        "    if arr1[i]> curr_max:\n",
        "      curr_max = arr1[i]\n",
        "      ind = i\n",
        "  arr1[ind] = -1\n",
        "if length%2:\n",
        "  curr_max = max(arr1)\n",
        "else:\n",
        "  curr_max = (curr_max + max(arr1))/2\n",
        "\n",
        "\n",
        "print(\"Median of the array is: \", curr_max)\n",
        "end_time = time.time()\n",
        "print(\"Time taken :\", end_time-start_time)\n"
      ],
      "metadata": {
        "colab": {
          "base_uri": "https://localhost:8080/"
        },
        "id": "Cs9TkjqPepWO",
        "outputId": "febcff0c-1bc6-46f1-e2be-4b168599e1e5"
      },
      "execution_count": 80,
      "outputs": [
        {
          "output_type": "stream",
          "name": "stdout",
          "text": [
            "Median of the array is:  48.0\n",
            "Time taken : 0.1087496280670166\n"
          ]
        }
      ]
    },
    {
      "cell_type": "code",
      "source": [
        "start_time = time.time()\n",
        "arr2.sort()\n",
        "length = len(arr2)\n",
        "if length%2:\n",
        "  print(arr2[length//2])\n",
        "else:\n",
        "  num = arr2[length//2-1] + arr2[length//2]\n",
        "  print(num/2)\n",
        "\n",
        "end_time = time.time()\n",
        "print(\"Time taken by suggested better method: \", end_time - start_time)"
      ],
      "metadata": {
        "colab": {
          "base_uri": "https://localhost:8080/"
        },
        "id": "BEgftCKmwdSc",
        "outputId": "56f160e7-677d-4d7f-9b64-89ed5051e7b6"
      },
      "execution_count": 81,
      "outputs": [
        {
          "output_type": "stream",
          "name": "stdout",
          "text": [
            "48.0\n",
            "Time taken by suggested better method:  0.0013339519500732422\n"
          ]
        }
      ]
    },
    {
      "cell_type": "code",
      "source": [
        "start_time = time.time()\n",
        "print(np.median(arr3))\n",
        "end_time = time.time()\n",
        "print(\"Time taken by numpy.median():\", end_time-start_time)"
      ],
      "metadata": {
        "colab": {
          "base_uri": "https://localhost:8080/"
        },
        "id": "Y3Kb4JElNPVa",
        "outputId": "107e8f03-eeb8-4ecf-e5d2-cedfa148b954"
      },
      "execution_count": 82,
      "outputs": [
        {
          "output_type": "stream",
          "name": "stdout",
          "text": [
            "48.0\n",
            "Time taken by numpy.median(): 0.0005059242248535156\n"
          ]
        }
      ]
    },
    {
      "cell_type": "markdown",
      "source": [
        "The given method is very slow as compared to suggested method and numpy.median()"
      ],
      "metadata": {
        "id": "rVYTjA59Uuv7"
      }
    },
    {
      "cell_type": "markdown",
      "source": [
        "# Question-4"
      ],
      "metadata": {
        "id": "2UE2UMuhW_GE"
      }
    },
    {
      "cell_type": "markdown",
      "source": [
        "What is the gradient of the following function with respect to x and y?\n",
        "\n",
        "x²y + y³sin(x)\n"
      ],
      "metadata": {
        "id": "pvOSV65xVma7"
      }
    },
    {
      "cell_type": "markdown",
      "source": [
        "The gradient of the given function with respect to x and y are 2xy + y³cos(x) and x² + 3y²sin(x)."
      ],
      "metadata": {
        "id": "53nLwO8UWDW7"
      }
    },
    {
      "cell_type": "markdown",
      "source": [
        "# Question-5"
      ],
      "metadata": {
        "id": "0Npg7a7JbrU7"
      }
    },
    {
      "cell_type": "markdown",
      "source": [
        "Use JAX to confirm the gradient evaluated by your method matches the analytical solution corresponding to a few random values of x and y."
      ],
      "metadata": {
        "id": "tKJcWKAIblMQ"
      }
    },
    {
      "cell_type": "code",
      "source": [
        "import jax\n",
        "import jax.numpy as jnp\n",
        "\n",
        "def f(x,y):\n",
        "    return (x*x)*y + (y**3)*jnp.sin(x)\n",
        "def fx(x,y):\n",
        "    return 2*x*y + jnp.cos(x) * (y**3)\n",
        "def fy(x,y):\n",
        "    return (x*x) + 3*(y*y)*jnp.sin(x)\n",
        "\n",
        "grad_x = jax.grad(f, argnums=0)\n",
        "\n",
        "print(\"Gradient with respect to x using JAX:\")\n",
        "print(\"Gradient at x = 2 and y = 5 is \", grad_x(2.0,5.0))\n",
        "print(\"Gradient at x = 2 and y = 5 is \", grad_x(0.0,.0))\n",
        "print(\"Gradient at x = -2 and y = -5 is \", grad_x(-2.0,-5.0),\"\\n\")\n",
        "\n",
        "print(\"Gradient with respect x using Analytical method:\")\n",
        "print(\"Gradient at x = 2 and y = 5 is \", fx(2.0,5.0))\n",
        "print(\"Gradient at x = 2 and y = 5 is \", fx(0.0,.0))\n",
        "print(\"Gradient at x = -2 and y = -5 is \", fx(-2.0,-5.0),\"\\n\")\n",
        "\n",
        "grad_y = jax.grad(f, argnums=1)\n",
        "print(\"Gradient with respect to y using JAX:\")\n",
        "print(\"Gradient at x = 2 and y = 5 is \", grad_y(2.0,5.0))\n",
        "print(\"Gradient at x = 2 and y = 5 is \", grad_y(0.0,.0))\n",
        "print(\"Gradient at x = -2 and y = -5 is \", grad_y(-2.0,-5.0),\"\\n\")\n",
        "\n",
        "print(\"Gradient with respect y using Analytical method:\")\n",
        "print(\"Gradient at x = 2 and y = 5 is \", fy(2.0,5.0))\n",
        "print(\"Gradient at x = 2 and y = 5 is \", fy(0.0,.0))\n",
        "print(\"Gradient at x = -2 and y = -5 is \", fy(-2.0,-5.0),\"\\n\")"
      ],
      "metadata": {
        "colab": {
          "base_uri": "https://localhost:8080/"
        },
        "id": "WoiD-6IbUuEy",
        "outputId": "047493d5-fd63-4c0d-c8ef-73786bd5aa91"
      },
      "execution_count": 90,
      "outputs": [
        {
          "output_type": "stream",
          "name": "stdout",
          "text": [
            "Gradient with respect to x using JAX:\n",
            "Gradient at x = 2 and y = 5 is  -32.018356\n",
            "Gradient at x = 2 and y = 5 is  0.0\n",
            "Gradient at x = -2 and y = -5 is  72.01836 \n",
            "\n",
            "Gradient with respect x using Analytical method:\n",
            "Gradient at x = 2 and y = 5 is  -32.018356\n",
            "Gradient at x = 2 and y = 5 is  0.0\n",
            "Gradient at x = -2 and y = -5 is  72.01836 \n",
            "\n",
            "Gradient with respect to y using JAX:\n",
            "Gradient at x = 2 and y = 5 is  72.1973\n",
            "Gradient at x = 2 and y = 5 is  0.0\n",
            "Gradient at x = -2 and y = -5 is  -64.1973 \n",
            "\n",
            "Gradient with respect y using Analytical method:\n",
            "Gradient at x = 2 and y = 5 is  72.1973\n",
            "Gradient at x = 2 and y = 5 is  0.0\n",
            "Gradient at x = -2 and y = -5 is  -64.1973 \n",
            "\n"
          ]
        }
      ]
    },
    {
      "cell_type": "markdown",
      "source": [
        "# Question-6"
      ],
      "metadata": {
        "id": "D1SxcbuKbhPa"
      }
    },
    {
      "cell_type": "markdown",
      "source": [
        "Use sympy to confirm that you obtain the same gradient analytically."
      ],
      "metadata": {
        "id": "TTQAElNkb1YN"
      }
    },
    {
      "cell_type": "code",
      "source": [
        "import sympy as sp\n",
        "\n",
        "x,y =sp.symbols('x y')\n",
        "f= (x**2)*y + (y**3)*sp.sin(x)\n",
        "\n",
        "print(\"Gradient with repect to x is :\",sp.diff(f,x))\n",
        "print(\"Gradient with respect to y is :\",sp.diff(f,y))"
      ],
      "metadata": {
        "colab": {
          "base_uri": "https://localhost:8080/"
        },
        "id": "u5mt3JuhUl5o",
        "outputId": "611b5b25-1268-4af4-96b8-f51b0f76fc24"
      },
      "execution_count": 93,
      "outputs": [
        {
          "output_type": "stream",
          "name": "stdout",
          "text": [
            "Gradient with repect to x is : 2*x*y + y**3*cos(x)\n",
            "Gradient with respect to y is : x**2 + 3*y**2*sin(x)\n"
          ]
        }
      ]
    },
    {
      "cell_type": "markdown",
      "source": [
        "# Question-7"
      ],
      "metadata": {
        "id": "j809LQlufdJo"
      }
    },
    {
      "cell_type": "markdown",
      "source": [
        "Create a Python nested dictionary to represent hierarchical information. We want to store record of students and their marks. Something like:"
      ],
      "metadata": {
        "id": "EdgCwtc3fgv2"
      }
    },
    {
      "cell_type": "code",
      "source": [
        "info = {\n",
        "    2022: {\n",
        "        'Electrical': {\n",
        "            1: {'Name': 'Abhishek', 'Marks': {'Maths': 100, 'English': 100}}\n",
        "        },\n",
        "        'Chemical': {\n",
        "            2: {'Name': 'Ankit', 'Marks': {'Maths': 80, 'English': 75}}\n",
        "        },\n",
        "    },\n",
        "    2023: {\n",
        "        'Electrical': {\n",
        "            11: {'Name': 'Yash', 'Marks': {'Maths': 90, 'English': 92}}\n",
        "        },\n",
        "        'CS': {\n",
        "            12: {'Name': 'Aayush', 'Marks': {'Maths': 97, 'English': 95}}\n",
        "        }\n",
        "    },\n",
        "    2024: {\n",
        "        'Branch 1': {},\n",
        "        'Branch 2': {}\n",
        "    },\n",
        "    2025: {\n",
        "        'Branch 1': {},\n",
        "        'Branch 2': {}\n",
        "    }\n",
        "}"
      ],
      "metadata": {
        "id": "4QeaWCWUeWQR"
      },
      "execution_count": 96,
      "outputs": []
    },
    {
      "cell_type": "markdown",
      "source": [
        "# Question-8"
      ],
      "metadata": {
        "id": "RJ3-CyOEfpu7"
      }
    },
    {
      "cell_type": "markdown",
      "source": [
        "Store the same information using Python classes. We have an overall database which is a list of year objects. Each year contains a list of branches. Each branch contains a list of students. Each student has some properties like name, roll number and has marks in some subjects."
      ],
      "metadata": {
        "id": "I7ZUAGbqfu_3"
      }
    },
    {
      "cell_type": "code",
      "source": [
        "class Year:\n",
        "    def __init__(self, year):\n",
        "        self.year = year\n",
        "        self.branches = []\n",
        "\n",
        "    def add_branch(self, branch):\n",
        "        self.branches.append(branch)\n",
        "\n",
        "class Branch:\n",
        "    def __init__(self, name):\n",
        "        self.name = name\n",
        "        self.students = []\n",
        "\n",
        "    def add_student(self, student):\n",
        "        self.students.append(student)\n",
        "\n",
        "class Student:\n",
        "    def __init__(self, rollno, name, subs_n_marks):\n",
        "        self.roll_number = rollno\n",
        "        self.name = name\n",
        "        self.subjects_n_marks = subs_n_marks\n",
        "\n",
        "data = []\n",
        "\n",
        "batch_22 = Year(2022)\n",
        "branch1_22 = Branch('Electrical')\n",
        "student1_22 = Student(1, 'Abhishek', {'Maths': 100, 'English': 100})\n",
        "branch1_22.add_student(student1_22)\n",
        "batch_22.add_branch(branch1_22)\n",
        "\n",
        "branch2_22 = Branch('Chemical')\n",
        "student2_22 = Student(2, 'Ankit', {'Maths': 91, 'English': 90})\n",
        "branch2_22.add_student(student2_22)\n",
        "batch_22.add_branch(branch2_22)\n",
        "data.append(batch_22)\n",
        "\n",
        "batch_23 = Year(2023)\n",
        "branch1_2023 = Branch('CS')\n",
        "student1_2023 = Student(16, 'Aayush', {'Maths': 90, 'English': 87})\n",
        "branch1_2023.add_student(student1_2023)\n",
        "batch_23.add_branch(branch1_2023)\n",
        "data.append(batch_23)\n",
        "\n",
        "for year in data:\n",
        "    print(f\"Year {year.year}:\\n\")\n",
        "    for branch in year.branches:\n",
        "        print(f\"   Branch: {branch.name}:\")\n",
        "        for student in branch.students:\n",
        "            print(f\"      Roll Number: {student.roll_number}:\")\n",
        "            print(f\"      Name: {student.name}\")\n",
        "            print(\"      Subjects and Marks:\")\n",
        "            for subject, score in student.subjects_n_marks.items():\n",
        "                print(f\"        {subject}: {score}\")\n",
        "        print()\n",
        "    print()"
      ],
      "metadata": {
        "colab": {
          "base_uri": "https://localhost:8080/"
        },
        "id": "HrxoTlA8fpSZ",
        "outputId": "5971d5db-0c52-41ea-96e3-9a6696c9a111"
      },
      "execution_count": 112,
      "outputs": [
        {
          "output_type": "stream",
          "name": "stdout",
          "text": [
            "Year 2022:\n",
            "\n",
            "   Branch: Electrical:\n",
            "      Roll Number: 1:\n",
            "      Name: Abhishek\n",
            "      Subjects and Marks:\n",
            "        Maths: 100\n",
            "        English: 100\n",
            "\n",
            "   Branch: Chemical:\n",
            "      Roll Number: 2:\n",
            "      Name: Ankit\n",
            "      Subjects and Marks:\n",
            "        Maths: 91\n",
            "        English: 90\n",
            "\n",
            "\n",
            "Year 2023:\n",
            "\n",
            "   Branch: CS:\n",
            "      Roll Number: 16:\n",
            "      Name: Aayush\n",
            "      Subjects and Marks:\n",
            "        Maths: 90\n",
            "        English: 87\n",
            "\n",
            "\n"
          ]
        }
      ]
    },
    {
      "cell_type": "markdown",
      "source": [
        "# Question-9"
      ],
      "metadata": {
        "id": "ByTyARwCofUK"
      }
    },
    {
      "cell_type": "markdown",
      "source": [
        "Using matplotlib plot the following functions on the domain: x = 0.5 to 100.0 in steps of 0.5.\n",
        "\n"
      ],
      "metadata": {
        "id": "CX3ZwIirokkU"
      }
    },
    {
      "cell_type": "code",
      "source": [
        "import matplotlib.pyplot as plt\n",
        "\n",
        "x = np.arange(0.5, 100.5, 0.5)\n",
        "\n",
        "figure, axes = plt.subplots(3, 3, figsize=(10, 6))\n",
        "axes[0, 0].plot(x, x, label='y=x')\n",
        "axes[0, 0].legend()\n",
        "\n",
        "axes[0, 1].plot(x, x*x, label='y=x²')\n",
        "axes[0, 1].legend()\n",
        "\n",
        "axes[0, 2].plot(x, x**3/100, label='y=x³/100')\n",
        "axes[0, 2].legend()\n",
        "\n",
        "axes[1, 0].plot(x, np.sin(x), label='y=sin(x)')\n",
        "axes[1, 0].legend()\n",
        "\n",
        "axes[1, 1].plot(x, np.sin(x)/x, label='y=sin(x)/x')\n",
        "axes[1, 1].legend()\n",
        "\n",
        "axes[1, 2].plot(x, np.log(x), label='y=log(x)')\n",
        "axes[1, 2].legend()\n",
        "\n",
        "axes[2, 0].plot(x, np.exp(x), label='y=e^x')\n",
        "axes[2, 0].legend()\n",
        "\n",
        "axes[2, 1].axis('off')\n",
        "axes[2, 2].axis('off')\n",
        "plt.tight_layout()\n",
        "plt.show()\n"
      ],
      "metadata": {
        "colab": {
          "base_uri": "https://localhost:8080/",
          "height": 607
        },
        "id": "iwfqrJRcovKS",
        "outputId": "eb098922-5214-45e0-c29e-35ee7043c137"
      },
      "execution_count": 129,
      "outputs": [
        {
          "output_type": "display_data",
          "data": {
            "text/plain": [
              "<Figure size 1000x600 with 9 Axes>"
            ],
            "image/png": "[encoded data removed]"
          },
          "metadata": {}
        }
      ]
    },
    {
      "cell_type": "markdown",
      "source": [
        "# Question-10"
      ],
      "metadata": {
        "id": "JzS0iegB0GX6"
      }
    },
    {
      "cell_type": "markdown",
      "source": [
        "Using numpy generate a matrix of size 20X5 containing random numbers drawn uniformly from the range of 1 to 2. Using Pandas create a dataframe out of this matrix. Name the columns of the dataframe as “a”, “b”, “c”, “d”, “e”. Find the column with the highest standard deviation. Find the row with the lowest mean."
      ],
      "metadata": {
        "id": "0cChSime0Knh"
      }
    },
    {
      "cell_type": "code",
      "source": [
        "import pandas as pd\n",
        "\n",
        "mat = np.random.uniform(1, 2, (20, 5))\n",
        "df = pd.DataFrame(mat, columns=['a', 'b', 'c', 'd', 'e'])\n",
        "print(\"Pandas DataFrame of the Matrix:\")\n",
        "print(df)\n",
        "print()\n",
        "\n",
        "min_mean_row = df.mean(axis=1).idxmin()\n",
        "max_stddev_col = df.std().idxmax()\n",
        "\n",
        "print(\"Row having the lowest mean:\", min_mean_row)\n",
        "print(\"Column having the highest standard deviation:\", max_stddev_col)\n"
      ],
      "metadata": {
        "colab": {
          "base_uri": "https://localhost:8080/"
        },
        "id": "I_jB0_kJ0PVf",
        "outputId": "308cbe6a-426a-41ed-c5e1-fd02ac2cbde4"
      },
      "execution_count": 133,
      "outputs": [
        {
          "output_type": "stream",
          "name": "stdout",
          "text": [
            "Pandas DataFrame of the Matrix:\n",
            "           a         b         c         d         e\n",
            "0   1.242441  1.682040  1.435405  1.599387  1.854149\n",
            "1   1.342125  1.956641  1.723842  1.200854  1.882703\n",
            "2   1.108604  1.412961  1.626993  1.906305  1.422352\n",
            "3   1.851237  1.263341  1.420989  1.606906  1.016298\n",
            "4   1.192481  1.290176  1.535721  1.782165  1.234227\n",
            "5   1.106995  1.452658  1.667990  1.582350  1.134013\n",
            "6   1.066896  1.371196  1.687148  1.756388  1.610198\n",
            "7   1.161687  1.670290  1.707270  1.463156  1.142073\n",
            "8   1.861332  1.805118  1.463826  1.928487  1.424139\n",
            "9   1.939929  1.895970  1.778602  1.945711  1.719394\n",
            "10  1.985543  1.712744  1.977043  1.478889  1.378157\n",
            "11  1.751782  1.735071  1.222341  1.026252  1.057056\n",
            "12  1.838694  1.030775  1.743230  1.577733  1.463622\n",
            "13  1.386749  1.532484  1.781355  1.929499  1.390022\n",
            "14  1.647911  1.745466  1.883489  1.036835  1.357810\n",
            "15  1.841434  1.079245  1.471204  1.236866  1.285613\n",
            "16  1.506165  1.562679  1.705358  1.078957  1.543822\n",
            "17  1.181765  1.956216  1.640413  1.734725  1.232794\n",
            "18  1.963549  1.202357  1.427883  1.648224  1.994630\n",
            "19  1.291628  1.551065  1.388374  1.914000  1.152303\n",
            "\n",
            "Row having the lowest mean: 11\n",
            "Column having the highest standard deviation: a\n"
          ]
        }
      ]
    },
    {
      "cell_type": "markdown",
      "source": [
        "# Question-11"
      ],
      "metadata": {
        "id": "ZxpQZtxP3KKZ"
      }
    },
    {
      "cell_type": "markdown",
      "source": [
        "Add a new column to the dataframe called “f” which is the sum of the columns “a”, “b”, “c”, “d”, “e”. Create another column called “g”. The value in the column “g” should be “LT8” if the value in the column “f” is less than 8 and “GT8” otherwise. Find the number of rows in the dataframe where the value in the column “g” is “LT8”. Find the standard deviation of the column “f” for the rows where the value in the column “g” is “LT8” and “GT8” respectively."
      ],
      "metadata": {
        "id": "cAJ7vtaI3Fj4"
      }
    },
    {
      "cell_type": "code",
      "source": [
        "df['f'] = df[['a', 'b', 'c', 'd', 'e']].sum(axis=1)\n",
        "\n",
        "values = []\n",
        "for ele in df['f']:\n",
        "    if ele < 8:\n",
        "        values.append('LT8')\n",
        "    else:\n",
        "        values.append('GT8')\n",
        "df['g'] = values\n",
        "print(\"Dataframe\")\n",
        "print(df)\n",
        "print(\"\\n\")\n",
        "\n",
        "count = df[df['g'] == 'LT8'].shape[0]\n",
        "\n",
        "stddev_gt8 = df.loc[df['g'] == 'GT8', 'f'].std()\n",
        "stddev_lt8 = df.loc[df['g'] == 'LT8', 'f'].std()\n",
        "\n",
        "print(\"Number of rows in the dataframe where the value in the column “g” is “LT8”:\", count)\n",
        "print(\"Standard deviation of 'f' where value in 'g' is GT8':\", stddev_gt8)\n",
        "print(\"Standard deviation of 'f' where value in 'g' is 'LT8':\", stddev_lt8)"
      ],
      "metadata": {
        "colab": {
          "base_uri": "https://localhost:8080/"
        },
        "id": "Y-P45amJ3Eeb",
        "outputId": "7d18b1f9-b90a-452a-daf6-10e5970349e4"
      },
      "execution_count": 142,
      "outputs": [
        {
          "output_type": "stream",
          "name": "stdout",
          "text": [
            "Dataframe\n",
            "           a         b         c         d         e         f    g\n",
            "0   1.242441  1.682040  1.435405  1.599387  1.854149  7.813422  LT8\n",
            "1   1.342125  1.956641  1.723842  1.200854  1.882703  8.106164  GT8\n",
            "2   1.108604  1.412961  1.626993  1.906305  1.422352  7.477214  LT8\n",
            "3   1.851237  1.263341  1.420989  1.606906  1.016298  7.158770  LT8\n",
            "4   1.192481  1.290176  1.535721  1.782165  1.234227  7.034770  LT8\n",
            "5   1.106995  1.452658  1.667990  1.582350  1.134013  6.944006  LT8\n",
            "6   1.066896  1.371196  1.687148  1.756388  1.610198  7.491827  LT8\n",
            "7   1.161687  1.670290  1.707270  1.463156  1.142073  7.144476  LT8\n",
            "8   1.861332  1.805118  1.463826  1.928487  1.424139  8.482903  GT8\n",
            "9   1.939929  1.895970  1.778602  1.945711  1.719394  9.279607  GT8\n",
            "10  1.985543  1.712744  1.977043  1.478889  1.378157  8.532376  GT8\n",
            "11  1.751782  1.735071  1.222341  1.026252  1.057056  6.792502  LT8\n",
            "12  1.838694  1.030775  1.743230  1.577733  1.463622  7.654054  LT8\n",
            "13  1.386749  1.532484  1.781355  1.929499  1.390022  8.020109  GT8\n",
            "14  1.647911  1.745466  1.883489  1.036835  1.357810  7.671511  LT8\n",
            "15  1.841434  1.079245  1.471204  1.236866  1.285613  6.914362  LT8\n",
            "16  1.506165  1.562679  1.705358  1.078957  1.543822  7.396981  LT8\n",
            "17  1.181765  1.956216  1.640413  1.734725  1.232794  7.745913  LT8\n",
            "18  1.963549  1.202357  1.427883  1.648224  1.994630  8.236642  GT8\n",
            "19  1.291628  1.551065  1.388374  1.914000  1.152303  7.297371  LT8\n",
            "\n",
            "\n",
            "Number of rows in the dataframe where the value in the column “g” is “LT8”: 14\n",
            "Standard deviation of 'f' where value in 'g' is GT8': 0.45702730544648507\n",
            "Standard deviation of 'f' where value in 'g' is 'LT8': 0.3331427161469254\n"
          ]
        }
      ]
    },
    {
      "cell_type": "markdown",
      "source": [
        "# Question-12"
      ],
      "metadata": {
        "id": "0To7MYLc9bKh"
      }
    },
    {
      "cell_type": "markdown",
      "source": [
        "Write a small piece of code to explain broadcasting in numpy."
      ],
      "metadata": {
        "id": "Y2MRG5ci9aL7"
      }
    },
    {
      "cell_type": "markdown",
      "source": [
        "Broadcasting in NumPy is a feature that allows us to apply arithmetic operations on arrays of different shapes and sizes. The example given below shows addition of two arrays with different shapes and sizes."
      ],
      "metadata": {
        "id": "n1JNRPa8-rI7"
      }
    },
    {
      "cell_type": "code",
      "source": [
        "a = np.array([[5, 2, 1],\n",
        "              [3, 1, 6]])\n",
        "\n",
        "b = np.array([10, 20, 30])\n",
        "\n",
        "result = a + b\n",
        "\n",
        "print(\"Array a:\")\n",
        "print(a)\n",
        "print(\"\\nArray b:\")\n",
        "print(b)\n",
        "print(\"\\nAddition of the two arrays due to broadcasting:\")\n",
        "print(result)"
      ],
      "metadata": {
        "colab": {
          "base_uri": "https://localhost:8080/"
        },
        "id": "L0EkCCwU9fFL",
        "outputId": "2740d64b-5049-4988-8630-dcce9df3925c"
      },
      "execution_count": 145,
      "outputs": [
        {
          "output_type": "stream",
          "name": "stdout",
          "text": [
            "Array a:\n",
            "[[5 2 1]\n",
            " [3 1 6]]\n",
            "\n",
            "Array b:\n",
            "[10 20 30]\n",
            "\n",
            "Addition of the Two arrays due to broadcasting:\n",
            "[[15 22 31]\n",
            " [13 21 36]]\n"
          ]
        }
      ]
    },
    {
      "cell_type": "markdown",
      "source": [
        "# Question-13\n"
      ],
      "metadata": {
        "id": "voQswxufAO4V"
      }
    },
    {
      "cell_type": "markdown",
      "source": [
        "Write a function to compute the argmin of a numpy array. The function should take a numpy array as input and return the index of the minimum element. You can use the np.argmin function to verify your solution."
      ],
      "metadata": {
        "id": "KRduqPlEAT-z"
      }
    },
    {
      "cell_type": "code",
      "source": [
        "def min_index(arr):\n",
        "    ind=0\n",
        "    for i in range(1, len(arr)):\n",
        "        if arr[i] < arr[ind]:\n",
        "            ind = i\n",
        "    return ind\n",
        "\n",
        "array = np.random.randint(100, size=50)\n",
        "print(\"Using my function, argmin of the array is :\", min_index(array))\n",
        "print(\"Using np.argmin() function, argmin of the array is :\", np.argmin(array))"
      ],
      "metadata": {
        "colab": {
          "base_uri": "https://localhost:8080/"
        },
        "id": "OjX6szcXAmH2",
        "outputId": "7b793813-b7e7-4153-e5e7-0cf48a2af225"
      },
      "execution_count": 152,
      "outputs": [
        {
          "output_type": "stream",
          "name": "stdout",
          "text": [
            "Using my function, argmin of the array is : 24\n",
            "Using np.argmin() function, argmin of the array is : 24\n"
          ]
        }
      ]
    }
  ]
}
